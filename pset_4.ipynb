{
 "cells": [
  {
   "cell_type": "markdown",
   "metadata": {},
   "source": [
    "# Problem Set 4: Wearables\n",
    "\n",
    "The problems in this problem set pertain to the following paper:\n",
    "\n",
    "Li, X., Dunn, J., Salins, D., Zhou, G., Zhou, W., Rose, S. M. S. F., ... & Sonecha, R. (2017). [Digital health: tracking physiomes and activity using wearable biosensors reveals useful health-related information.](https://journals.plos.org/plosbiology/article?id=10.1371/journal.pbio.2001402) PLoS biology, 15(1), e2001402.\n",
    "\n",
    "\n",
    "Please read this paper before starting this problem set, so you have context.\n",
    "\n",
    "Interestingly, all of this data has been made publicly available. We will be working with a small subset in order to gain experience working with wearable data. Our goal will be to detect evidence of jetlag in Participant 1 as they travel. [Jetlag](https://en.wikipedia.org/wiki/Jet_lag) is a condition resulting from disrupted circadian rhythm while travelling."
   ]
  },
  {
   "cell_type": "markdown",
   "metadata": {},
   "source": [
    "## Part 1: About Time!\n",
    "\n",
    "Wearable data typically takes the form of a time series. One major factor to consider is how to represent time. We can use a human readable format (ex: **Thursday, March 1, 2018 1:42:59 PM** or **3/1/18 13:42:59**) or a timestamp (ex: **1519940579**). We also need to think about timezone - as Participant 1 travels, their timezone changes, which in turn changes their local time. We often represent timezone by storing a GMT offset. Sometimes it makes sense to work with local time and other times we’ll want to work with GMT. [This](https://www.epochconverter.com) is a useful resource that explains and converts between different representations of time. If you scroll down, it also gives code examples in a variety of languages (including Python and R)."
   ]
  },
  {
   "cell_type": "markdown",
   "metadata": {},
   "source": [
    "### 1.1\n",
    "\n",
    "**What is GMT? For the time ​Thursday, March 1, 2018 1:42:59 PM GMT-08:00​, what does GMT-08:00 mean?**"
   ]
  },
  {
   "cell_type": "markdown",
   "metadata": {},
   "source": [
    "YOUR WRITTEN ANSWER HERE\n",
    "\n",
    "GMT stands for \"Greenwich Mean Time\" and is the mean solar time at the Royal Observatory in Greenwich, London, reckoned from midnight. It is considered by many to be synonymous for Coordinated Universal Time or UTC, which is the primary time standard by which the world regulates clocks and time.\n",
    "\n",
    "GMT-8:00 in this case means that the given time is offset by 28,800 seconds from GMT."
   ]
  },
  {
   "cell_type": "markdown",
   "metadata": {},
   "source": [
    "### 1.2\n",
    "\n",
    "**What is a timestamp, and what does it represent? What date and time is `1519940579`, in human readable format?**"
   ]
  },
  {
   "cell_type": "markdown",
   "metadata": {},
   "source": [
    "YOUR WRITTEN ANSWER HERE\n",
    "A timestamp is simply a way to measure time, and is respresents the number of seconds since January 1, 1970. \n",
    "\n",
    "\n",
    "Thursday, March 1, 2018 1:42:59 PM GMT-08:00"
   ]
  },
  {
   "cell_type": "code",
   "execution_count": 1,
   "metadata": {
    "scrolled": true
   },
   "outputs": [
    {
     "data": {
      "text/plain": [
       "'Thu Mar  1 13:42:59 2018'"
      ]
     },
     "execution_count": 1,
     "metadata": {},
     "output_type": "execute_result"
    }
   ],
   "source": [
    "# YOUR CODE HERE\n",
    "import time\n",
    "\n",
    "time.asctime(time.localtime(1519940579))"
   ]
  },
  {
   "cell_type": "markdown",
   "metadata": {},
   "source": [
    "## Part 2: Time-Consuming Analysis\n",
    "\n",
    "**Participant 1’s sleep data was collected using a Basis Watch and is stored in `sleep_to_03-31-16.csv`. Notice that this file include local start and end times (`local_start_time`, `local_end_time`) as well as timestamps (`start_timestamp`, `end_timestamp`) and GMT start and end times (`start_time_iso`, `end_time_iso`).**"
   ]
  },
  {
   "cell_type": "markdown",
   "metadata": {},
   "source": [
    "### 2.1\n",
    "\n",
    "**Let’s figure out how many hours Participant 1 sleeps per day. Make a histogram of the total number of hours slept each day. Use GMT start time to determine what day sleep occurs on and actual_minutes to determine sleep duration. Include a line on the plot showing average sleep per day.**"
   ]
  },
  {
   "cell_type": "code",
   "execution_count": 96,
   "metadata": {},
   "outputs": [
    {
     "data": {
      "image/png": "[encoded data removed]",
      "text/plain": [
       "<Figure size 1080x720 with 1 Axes>"
      ]
     },
     "metadata": {
      "needs_background": "light"
     },
     "output_type": "display_data"
    }
   ],
   "source": [
    "# YOUR CODE HERE\n",
    "import pandas as pd\n",
    "import matplotlib.pyplot as plt\n",
    "from datetime import date as dt\n",
    "\n",
    "# Read sleep data from csv\n",
    "sleep_data = pd.read_csv('sleep_to_03-31-16.csv')\n",
    "\n",
    "day_sleep = {}\n",
    "# Add all the actual_minutes into one value, then {date: minutes}\n",
    "for row_index in sleep_data.index:\n",
    "    day = dt.fromtimestamp(int(sleep_data['start_timestamp'][row_index]))\n",
    "    if day not in day_sleep:\n",
    "        day_sleep[day] = sleep_data['actual_minutes'][row_index]\n",
    "    else:\n",
    "        day_sleep[day] += sleep_data['actual_minutes'][row_index]\n",
    "    \n",
    "\n",
    "# Convert datetime.date object to string for graphing purposes\n",
    "times = [str(time) for time in list(day_sleep.keys())]\n",
    "\n",
    "# Find average sleep per day\n",
    "avg = 0\n",
    "for mins in day_sleep.values():\n",
    "    avg += mins\n",
    "avg = avg / len(day_sleep)\n",
    "# Add avg to both the dict and the list for graphing purposes\n",
    "day_sleep['daily_avg'] = avg\n",
    "times.append('daily_avg')\n",
    "\n",
    "plt.figure(figsize=(15, 10))\n",
    "plt.bar(times, day_sleep.values(), color='g')\n",
    "plt.show()\n"
   ]
  },
  {
   "cell_type": "markdown",
   "metadata": {},
   "source": [
    "\n",
    "### 2.2\n",
    "\n",
    "**Report basic features of the distribution of daily sleep for Participant 1: mean, median, standard deviation, minimum, and maximum. Comment on whether these values seem reasonable. Do the data look reliable, or do you think the observations are noisy or error-prone?**"
   ]
  },
  {
   "cell_type": "code",
   "execution_count": 93,
   "metadata": {},
   "outputs": [
    {
     "name": "stdout",
     "output_type": "stream",
     "text": [
      "Standard Deviation: 152.36828690861222\n",
      "Mean: 386.40531561461796\n",
      "Median: 376.0\n",
      "Minimum: 32\n",
      "Maximum: 1032\n"
     ]
    }
   ],
   "source": [
    "# YOUR CODE HERE\n",
    "import numpy as np\n",
    "\n",
    "day_sleep.pop('daily_avg', None)\n",
    "minutes_slept = list(day_sleep.values())\n",
    "\n",
    "# Basic info on data\n",
    "def basic_dist(val_list):\n",
    "    stdev = np.std(val_list)\n",
    "    mean = np.mean(val_list)\n",
    "    median = np.median(val_list)\n",
    "    minim = min(val_list)\n",
    "    maxim = max(val_list)\n",
    "    print(f\"Standard Deviation: {stdev}\\nMean: {mean}\\nMedian: {median}\\nMinimum: {minim}\\nMaximum: {maxim}\")\n",
    "\n",
    "basic_dist(minutes_slept)"
   ]
  },
  {
   "cell_type": "markdown",
   "metadata": {},
   "source": [
    "YOUR WRITTEN ANSWER HERE\n",
    "\n",
    "These data seem noisy and/or error-prone. The standard deviation in particular seems quite high for someone with any degree of regularity in their sleep schedule. Median and mean are consistent with one another but both are a tad low (6.4 hours) which makes me think that our wearable may not be catching all of the time asleep. It's possible that this person slept 25 hours one night and 17 hours another, but not the most likely scenario unless we're looking at a grad student. Also if we are counting the two large gaps as zero values, I think that would be a mistake. The person likely went a period of time without wearing the wearable."
   ]
  },
  {
   "cell_type": "markdown",
   "metadata": {},
   "source": [
    "## Part 3: Time Flies"
   ]
  },
  {
   "cell_type": "markdown",
   "metadata": {},
   "source": [
    "Participant 1’s travel information is in `activities.csv`. This file contains information on a variety of activities, including (somewhat bizarrely) `table_tennis`. Note that start and end times are given in local time but a GMT offset is included.\n",
    "\n",
    "We would like to extract a list of flights taken by Participant 1. However, as with a lot of wearable data, our labels are imperfect. Some flights are labeled `airplane` in the `Activity` column and others are labelled `transport`. However, `transport` is also used for car rides, train rides, etc. We will define a flight as an activity that is either (labeled `airplane`) OR (labeled `transport` AND has an average speed over 100 miles/hour). You can calculate speed from `Duration` (given in seconds) and `Distance` (given in miles)."
   ]
  },
  {
   "cell_type": "markdown",
   "metadata": {},
   "source": [
    "### 3.1\n",
    "\n",
    "**How many flights did Participant 1 take? Plot a histogram of the duration (in hours) of these flights. Is there anything unexpected about the distribution of durations? Give an explanation for what could give rise to these observations, and propose a way to post-process them (for purposes of this assignment, we'll be leaving these data as-is).**"
   ]
  },
  {
   "cell_type": "code",
   "execution_count": 116,
   "metadata": {},
   "outputs": [
    {
     "name": "stdout",
     "output_type": "stream",
     "text": [
      "{datetime.date(2014, 3, 23): 14721, datetime.date(2014, 3, 24): 14057, datetime.date(2014, 3, 25): 14156, datetime.date(2014, 3, 28): 40406, datetime.date(2014, 4, 1): 14451, datetime.date(2014, 4, 3): 16009, datetime.date(2014, 4, 6): 8300, datetime.date(2014, 4, 8): 6824, datetime.date(2014, 4, 14): 7178, datetime.date(2014, 4, 16): 5674, datetime.date(2014, 4, 17): 10186, datetime.date(2014, 4, 28): 5853, datetime.date(2014, 5, 1): 16797, datetime.date(2014, 5, 2): 3932, datetime.date(2014, 5, 5): 3878, datetime.date(2014, 5, 6): 15990, datetime.date(2014, 5, 7): 4450, datetime.date(2014, 5, 8): 18006, datetime.date(2014, 5, 9): 46190, datetime.date(2014, 5, 11): 50207, datetime.date(2014, 5, 14): 8426, datetime.date(2014, 5, 15): 21524, datetime.date(2014, 5, 18): 18608, datetime.date(2014, 5, 19): 24184, datetime.date(2014, 5, 27): 7026, datetime.date(2014, 5, 29): 9214, datetime.date(2014, 6, 3): 20084, datetime.date(2014, 6, 8): 25933, datetime.date(2014, 6, 14): 6759, datetime.date(2014, 6, 16): 6098, datetime.date(2014, 6, 17): 19083, datetime.date(2014, 6, 18): 1427, datetime.date(2014, 6, 24): 6132, datetime.date(2014, 6, 25): 4267, datetime.date(2014, 6, 26): 19304, datetime.date(2014, 7, 3): 5259, datetime.date(2014, 7, 6): 13885, datetime.date(2014, 7, 27): 18262, datetime.date(2014, 7, 29): 19395, datetime.date(2014, 8, 3): 8733, datetime.date(2014, 9, 9): 6470, datetime.date(2014, 9, 10): 13740, datetime.date(2014, 9, 20): 36285, datetime.date(2014, 9, 21): 5119, datetime.date(2014, 9, 24): 4390, datetime.date(2014, 9, 26): 389, datetime.date(2014, 9, 30): 4389, datetime.date(2014, 10, 4): 15919, datetime.date(2014, 10, 8): 8567, datetime.date(2014, 10, 16): 2774, datetime.date(2014, 10, 18): 8910, datetime.date(2014, 10, 29): 2882, datetime.date(2014, 10, 30): 6234, datetime.date(2014, 11, 3): 5224, datetime.date(2014, 11, 4): 6903, datetime.date(2014, 11, 13): 11155, datetime.date(2014, 11, 20): 8238, datetime.date(2014, 12, 2): 11315, datetime.date(2014, 12, 4): 17900, datetime.date(2015, 1, 12): 6491, datetime.date(2015, 2, 11): 10805, datetime.date(2015, 3, 1): 2675, datetime.date(2015, 4, 15): 844, datetime.date(2015, 4, 17): 13519, datetime.date(2015, 4, 23): 2606, datetime.date(2015, 5, 3): 15445, datetime.date(2015, 5, 5): 5591, datetime.date(2015, 5, 6): 18740, datetime.date(2015, 5, 7): 6768, datetime.date(2015, 5, 10): 41322, datetime.date(2015, 5, 11): 6219, datetime.date(2015, 5, 12): 4966, datetime.date(2015, 5, 17): 14230, datetime.date(2015, 5, 18): 13805, datetime.date(2015, 5, 26): 13255, datetime.date(2015, 5, 27): 14560, datetime.date(2015, 5, 31): 14555, datetime.date(2015, 6, 2): 9723, datetime.date(2015, 6, 3): 22664, datetime.date(2015, 6, 11): 2352, datetime.date(2015, 6, 14): 2789, datetime.date(2015, 6, 19): 3899, datetime.date(2015, 6, 20): 15930, datetime.date(2015, 6, 24): 360, datetime.date(2015, 6, 26): 19791, datetime.date(2015, 7, 3): 17755, datetime.date(2015, 7, 4): 10312, datetime.date(2015, 7, 12): 6620, datetime.date(2015, 7, 14): 1459, datetime.date(2015, 7, 18): 42061, datetime.date(2015, 7, 30): 5955, datetime.date(2015, 7, 31): 8442, datetime.date(2015, 8, 2): 9189, datetime.date(2015, 8, 5): 11215, datetime.date(2015, 8, 16): 37402, datetime.date(2015, 8, 17): 2511, datetime.date(2015, 8, 20): 135, datetime.date(2015, 8, 27): 4211, datetime.date(2015, 8, 28): 3937, datetime.date(2015, 8, 29): 15663, datetime.date(2015, 9, 1): 16103, datetime.date(2015, 9, 2): 180, datetime.date(2015, 9, 3): 3968, datetime.date(2015, 9, 4): 41446, datetime.date(2015, 9, 9): 7489, datetime.date(2015, 9, 11): 7314, datetime.date(2015, 9, 12): 38189, datetime.date(2015, 9, 13): 6700, datetime.date(2015, 9, 15): 10696, datetime.date(2015, 9, 26): 8992, datetime.date(2015, 10, 1): 4865, datetime.date(2015, 10, 3): 15756, datetime.date(2015, 10, 4): 2375, datetime.date(2015, 10, 5): 15761, datetime.date(2015, 10, 9): 5862, datetime.date(2015, 10, 11): 22675, datetime.date(2015, 10, 27): 32756, datetime.date(2015, 10, 28): 4658, datetime.date(2015, 10, 29): 2621, datetime.date(2015, 10, 30): 43672, datetime.date(2015, 11, 20): 44267, datetime.date(2015, 11, 30): 3924, datetime.date(2015, 12, 1): 12939, datetime.date(2015, 12, 6): 3884, datetime.date(2015, 12, 10): 17836, datetime.date(2016, 1, 2): 20906, datetime.date(2016, 1, 5): 4405, datetime.date(2016, 1, 10): 4943, datetime.date(2016, 2, 4): 8261, datetime.date(2016, 2, 5): 12398, datetime.date(2016, 2, 7): 10406, datetime.date(2016, 2, 12): 9975, datetime.date(2016, 2, 25): 7911, datetime.date(2016, 2, 27): 9311, datetime.date(2016, 3, 2): 14574, datetime.date(2016, 3, 13): 19961, datetime.date(2016, 3, 16): 22168, datetime.date(2016, 3, 18): 5797, datetime.date(2016, 3, 19): 9962, datetime.date(2016, 3, 20): 1316, datetime.date(2016, 3, 30): 19811}\n",
      "Standard Deviation: 10640.170744955967\n",
      "Mean: 12592.021276595744\n",
      "Median: 9214.0\n",
      "Minimum: 135\n",
      "Maximum: 50207\n",
      "Number of flights: 141\n"
     ]
    },
    {
     "data": {
      "image/png": "[encoded data removed]",
      "text/plain": [
       "<Figure size 1080x720 with 1 Axes>"
      ]
     },
     "metadata": {
      "needs_background": "light"
     },
     "output_type": "display_data"
    }
   ],
   "source": [
    "# YOUR CODE HERE\n",
    "from datetime import date\n",
    "# Add Speed to dataframe\n",
    "activities = pd.read_csv('activities.csv')\n",
    "activities['Speed'] = activities['Distance'] / (activities['Duration']/60/60)\n",
    "\n",
    "flt_dur = {}\n",
    "# Log all of the flight time\n",
    "for row in activities.index:\n",
    "    if activities['Activity'][row] == 'airplane' or (activities['Activity'][row] == 'transport' and activities['Speed'][row]>100):\n",
    "        isoformat, _ = activities['Start'][row].split('T', 1)\n",
    "        # i.e. {datetime.date(2014, 3, 23): minutes}\n",
    "        flt_dur[date.fromisoformat(isoformat)] = activities['Duration'][row]\n",
    "        \n",
    "# Statistical info about flight duration\n",
    "air_time = list(flt_dur.values())\n",
    "basic_dist(air_time)\n",
    "print(f\"Number of flights: {len(flt_dur)}\")\n",
    "\n",
    "plt.figure(figsize=(15, 10))\n",
    "plt.hist(air_time, bins= 40, color='b')\n",
    "plt.show()"
   ]
  },
  {
   "cell_type": "markdown",
   "metadata": {},
   "source": [
    "YOUR WRITTEN ANSWER HERE\n",
    "\n",
    "We have a few outliers which pulls the mean significantly away from the median and makes the standard deviation enormous. This is likely from the tran-oceanic flights vs. the intracontinental flights. In addition, the csv file separates fligts that occur during 12am into two instances, which shifts our curve to the left. In our processing we could account for this by combining neighboring flights that start/stop right at midnight."
   ]
  },
  {
   "cell_type": "markdown",
   "metadata": {},
   "source": [
    "### 3.2\n",
    "\n",
    "**Now we know when Participant 1 travelled and when they slept. Let’s put them together. We want to compare Participant 1’s sleep after travelling to their usual sleep. To do this, we’ll want to use GMT for both our flight and sleep times. Using the flight dates from question 3.1, generate a set of dates within 3 days of flight. That is, if they travelled on 3/23/14, then you should include 3/23/14, 3/24/14, and 3/25/14 as \"after-flight\" dates**. \n",
    "\n",
    "**Re-make the histogram of sleep duration from (2.1), stratifying by whether the date is an \"after-flight\" day. Then use a t-test to compare sleep \"after-flight\" to sleep not \"after-flight\" and report your results.**"
   ]
  },
  {
   "cell_type": "code",
   "execution_count": 144,
   "metadata": {},
   "outputs": [
    {
     "data": {
      "image/png": "[encoded data removed]",
      "text/plain": [
       "<Figure size 1080x720 with 1 Axes>"
      ]
     },
     "metadata": {
      "needs_background": "light"
     },
     "output_type": "display_data"
    },
    {
     "name": "stdout",
     "output_type": "stream",
     "text": [
      "t-test stat: -1.8234651500388228\n",
      "p-value: 0.06922793030802941\n"
     ]
    }
   ],
   "source": [
    "# YOUR CODE HERE\n",
    "import datetime\n",
    "from matplotlib import pyplot\n",
    "import scipy.stats as stats\n",
    "\n",
    "# Generate set of dates within 3 days of flight.\n",
    "flight_dates = list(flt_dur.keys())\n",
    "\n",
    "flight_effect = set()\n",
    "for date in flight_dates:\n",
    "    for i in range(3):\n",
    "        flight_effect.add(date + datetime.timedelta(days=i))\n",
    "\n",
    "# All sleeping days\n",
    "dates = [time for time in list(day_sleep.keys())]\n",
    "# Separate sleep days into flight sleep and non-flight sleep.\n",
    "flight_sleeps = set()\n",
    "nonflight_sleeps = set()\n",
    "for date in dates:\n",
    "    if date in flight_effect:\n",
    "        flight_sleeps.add(date)\n",
    "    else:\n",
    "        nonflight_sleeps.add(date)\n",
    "\n",
    "flt_snooze = [v for k,v in day_sleep.items() if k in flight_sleeps]\n",
    "norm_snooze = [v for k,v in day_sleep.items() if k in nonflight_sleeps]\n",
    "# print(f\"flightsleep: {flt_snooze}\\n\\nnonflightsleep: {norm_snooze}\")\n",
    "\n",
    "# Plot histogram of both cases\n",
    "pyplot.figure(figsize=(15, 10))\n",
    "pyplot.hist(flt_snooze, bins= 40, alpha=0.5, label='flight sleep')\n",
    "pyplot.hist(norm_snooze, bins=40, alpha=0.5, label='nonflight sleep')\n",
    "pyplot.legend(loc='upper right')\n",
    "pyplot.show()\n",
    "\n",
    "# T-test of both sets\n",
    "flt = np.array(flt_snooze)\n",
    "norm = np.array(norm_snooze)\n",
    "\n",
    "eq_var = False\n",
    "if np.var(flt) > np.var(norm):\n",
    "    if np.var(flt) / np.var(norm) < 4:\n",
    "        eq_var = True\n",
    "else:\n",
    "    if np.var(norm) / np.var(flt) < 4:\n",
    "        eq_var = True\n",
    "\n",
    "if eq_var:\n",
    "    t_test_stat, p_val = stats.ttest_ind(a=flt, b=norm, equal_var=True)\n",
    "    print(f\"t-test stat: {t_test_stat}\\np-value: {p_val}\")\n",
    "else:\n",
    "    print(\"Error: Cannot assume equal variance!\")"
   ]
  },
  {
   "cell_type": "markdown",
   "metadata": {},
   "source": [
    "### 3.3\n",
    "\n",
    "**What can we conclude about airplane flights and sleep for Participant 1? Is there an association between the two, and if so, how large is the effect?**"
   ]
  },
  {
   "cell_type": "code",
   "execution_count": null,
   "metadata": {},
   "outputs": [],
   "source": [
    "# YOUR CODE HERE"
   ]
  },
  {
   "cell_type": "markdown",
   "metadata": {},
   "source": [
    "YOUR WRITTEN ANSWER HERE\n",
    "Based on the p-value from the t-test, it doesn't seem like we can reject the null hypothesis that these two datasets are significantly different."
   ]
  }
 ],
 "metadata": {
  "kernelspec": {
   "display_name": "Python 3",
   "language": "python",
   "name": "python3"
  },
  "language_info": {
   "codemirror_mode": {
    "name": "ipython",
    "version": 3
   },
   "file_extension": ".py",
   "mimetype": "text/x-python",
   "name": "python",
   "nbconvert_exporter": "python",
   "pygments_lexer": "ipython3",
   "version": "3.8.5"
  }
 },
 "nbformat": 4,
 "nbformat_minor": 4
}
